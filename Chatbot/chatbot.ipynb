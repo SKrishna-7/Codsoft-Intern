{
 "cells": [
  {
   "cell_type": "code",
   "execution_count": null,
   "id": "7f6629cc-ee73-4bb9-8e59-bbbe3b59a4aa",
   "metadata": {},
   "outputs": [],
   "source": [
    "from nltk.chat.util import Chat, reflections\n"
   ]
  },
  {
   "cell_type": "code",
   "execution_count": null,
   "id": "91920045-34a3-4434-adc4-4936bb750ad7",
   "metadata": {},
   "outputs": [],
   "source": [
    "\n",
    "pattern = [\n",
    "    [\n",
    "        r\"(.*)Robot\",\n",
    "        [\"hi , how can I help you \"]\n",
    "    ],\n",
    "    [\n",
    "        r\"(.*)question\",\n",
    "        [\"I am here for your help\"]\n",
    "    ],\n",
    "    \n",
    "    [\n",
    "        r\"(.*)developed \",\n",
    "        [\"Suresh Krishna Developed me for his Codsoft internship program\"]\n",
    "    ],\n",
    "    \n",
    "    [\n",
    "        r\"(.*)name(.*)\",\n",
    "        [\"Hello %2, How are you today ?\",]\n",
    "    ],\n",
    "    [\n",
    "        r\"(.*)help(.*) \",\n",
    "        [\"I can help you \",]\n",
    "    ],\n",
    "     [\n",
    "        r\"(.*) your name ?\",\n",
    "        [\"My name is AI Robot, but you can call me as Chitti\",]\n",
    "    ],\n",
    "    [\n",
    "        r\"how are you (.*) ?\",\n",
    "        [\"I'm doing very well\", \"i am great !\"]\n",
    "    ],\n",
    "    [\n",
    "        r\"sorry (.*)\",\n",
    "        [\"Its alright\",\"Its OK, never mind that\",]\n",
    "    ],\n",
    "    [\n",
    "        r\"i'm (.*) (good|well|okay|ok)\",\n",
    "        [\"Nice to hear that\",\"Alright, great !\",]\n",
    "    ],\n",
    "    [\n",
    "        r\"(hi|hey|hello|hola|holla)(.*)\",\n",
    "        [\"Hello\", \"Hey there\",]\n",
    "    ],\n",
    "    [\n",
    "        r\"what (.*) want ?\",\n",
    "        [\"Make me an offer I can't refuse\",]\n",
    "        \n",
    "    ],\n",
    "    [\n",
    "        r\"(.*)created(.*)\",\n",
    "        [\"Suresh Krishna devoleped me using Python's NLTK library \",\"Its top secret........... ;)\",]\n",
    "    ],\n",
    "    [\n",
    "        r\"(.*) (location|city) ?\",\n",
    "        ['Ambur Tamilnadu ,India',]\n",
    "    ],\n",
    "    [\n",
    "        r\"(.*)raining in (.*)\",\n",
    "        [\"No rain in the past 4 days here in %2\",\"In %2 there is a 50% chance of rain\",]\n",
    "    ],\n",
    "    [\n",
    "        r\"how (.*) health (.*)\",\n",
    "        [\"Health is very important, but I am a computer, so I don't need to worry about my health \",]\n",
    "    ],\n",
    "    [\n",
    "        r\"(.*)(sports|game|sport)(.*)\",\n",
    "        [\"I'm a very big fan of Cricket\",]\n",
    "    ],\n",
    "    [\n",
    "        r\"who (.*) (Cricketer|Batsman)?\",\n",
    "        [\"M S Dhoni\"]\n",
    "    ],\n",
    "    [\n",
    "        r\"quit\",\n",
    "        [\"Bye for now. See you soon :) \",\"It was nice talking to you. See you soon :)\"]\n",
    "    ],\n",
    "    [\n",
    "        r\"(.*)\",\n",
    "        ['That is nice to hear']\n",
    "    ],\n",
    "    \n",
    "]"
   ]
  },
  {
   "cell_type": "code",
   "execution_count": 15,
   "id": "31c3ba8c-a726-444b-a0ef-548739e978c9",
   "metadata": {},
   "outputs": [
    {
     "data": {
      "text/plain": [
       "[['(.*)Robot', ['hi , how can I help you ']],\n",
       " ['(.*)question', ['I am here for your help']],\n",
       " ['(.*)developed ',\n",
       "  ['Suresh Krishna Developed me for his Codsoft internship program']],\n",
       " ['(.*)name(.*)', ['Hello %2, How are you today ?']],\n",
       " ['(.*)help(.*) ', ['I can help you ']],\n",
       " ['(.*) your name ?', ['My name is AI Robot, but you can call me as Chitti']],\n",
       " ['how are you (.*) ?', [\"I'm doing very well\", 'i am great !']],\n",
       " ['sorry (.*)', ['Its alright', 'Its OK, never mind that']],\n",
       " [\"i'm (.*) (good|well|okay|ok)\", ['Nice to hear that', 'Alright, great !']],\n",
       " ['(hi|hey|hello|hola|holla)(.*)', ['Hello', 'Hey there']],\n",
       " ['what (.*) want ?', [\"Make me an offer I can't refuse\"]],\n",
       " ['(.*)created(.*)',\n",
       "  [\"Suresh Krishna devoleped me using Python's NLTK library \",\n",
       "   'Its top secret........... ;)']],\n",
       " ['(.*) (location|city) ?', ['Ambur Tamilnadu ,India']],\n",
       " ['(.*)raining in (.*)',\n",
       "  ['No rain in the past 4 days here in %2',\n",
       "   'In %2 there is a 50% chance of rain']],\n",
       " ['how (.*) health (.*)',\n",
       "  [\"Health is very important, but I am a computer, so I don't need to worry about my health \"]],\n",
       " ['(.*)(sports|game|sport)(.*)', [\"I'm a very big fan of Cricket\"]],\n",
       " ['who (.*) (Cricketer|Batsman)?', ['M S Dhoni']],\n",
       " ['quit',\n",
       "  ['Bye for now. See you soon :) ',\n",
       "   'It was nice talking to you. See you soon :)']],\n",
       " ['(.*)', ['That is nice to hear']]]"
      ]
     },
     "execution_count": 15,
     "metadata": {},
     "output_type": "execute_result"
    }
   ],
   "source": [
    "pattern"
   ]
  },
  {
   "cell_type": "code",
   "execution_count": 18,
   "id": "20d411c7-d048-4a32-9e4c-a3b0e2073ac2",
   "metadata": {},
   "outputs": [],
   "source": [
    "chat = Chat(pattern, reflections)"
   ]
  },
  {
   "cell_type": "code",
   "execution_count": null,
   "id": "a68607e9-5200-4456-937b-920ae5dfdbdf",
   "metadata": {},
   "outputs": [
    {
     "name": "stdin",
     "output_type": "stream",
     "text": [
      "> Hii\n"
     ]
    },
    {
     "name": "stdout",
     "output_type": "stream",
     "text": [
      "Hello\n"
     ]
    },
    {
     "name": "stdin",
     "output_type": "stream",
     "text": [
      "> How are you ?\n"
     ]
    },
    {
     "name": "stdout",
     "output_type": "stream",
     "text": [
      "i am great !\n"
     ]
    },
    {
     "name": "stdin",
     "output_type": "stream",
     "text": [
      "> hey Robot\n"
     ]
    },
    {
     "name": "stdout",
     "output_type": "stream",
     "text": [
      "hi , how can I help you \n"
     ]
    },
    {
     "name": "stdin",
     "output_type": "stream",
     "text": [
      "> who created you ?\n"
     ]
    },
    {
     "name": "stdout",
     "output_type": "stream",
     "text": [
      "Its top secret........... ;)\n"
     ]
    },
    {
     "name": "stdin",
     "output_type": "stream",
     "text": [
      "> ohh\n"
     ]
    },
    {
     "name": "stdout",
     "output_type": "stream",
     "text": [
      "That is nice to hear\n"
     ]
    },
    {
     "name": "stdin",
     "output_type": "stream",
     "text": [
      "> say who developed you ?\n"
     ]
    },
    {
     "name": "stdout",
     "output_type": "stream",
     "text": [
      "Suresh Krishna Developed me for his Codsoft internship program\n"
     ]
    },
    {
     "name": "stdin",
     "output_type": "stream",
     "text": [
      "> ok\n"
     ]
    },
    {
     "name": "stdout",
     "output_type": "stream",
     "text": [
      "That is nice to hear\n"
     ]
    },
    {
     "name": "stdin",
     "output_type": "stream",
     "text": [
      "> which is your fav sport ?\n"
     ]
    },
    {
     "name": "stdout",
     "output_type": "stream",
     "text": [
      "I'm a very big fan of Cricket\n"
     ]
    },
    {
     "name": "stdin",
     "output_type": "stream",
     "text": [
      "> fav Cricketer ?\n"
     ]
    },
    {
     "name": "stdout",
     "output_type": "stream",
     "text": [
      "That is nice to hear\n"
     ]
    },
    {
     "name": "stdin",
     "output_type": "stream",
     "text": [
      "> fav Cricketer\n"
     ]
    },
    {
     "name": "stdout",
     "output_type": "stream",
     "text": [
      "That is nice to hear\n"
     ]
    },
    {
     "name": "stdin",
     "output_type": "stream",
     "text": [
      "> Cricketer\n"
     ]
    },
    {
     "name": "stdout",
     "output_type": "stream",
     "text": [
      "That is nice to hear\n"
     ]
    }
   ],
   "source": [
    "chat.converse()"
   ]
  }
 ],
 "metadata": {
  "kernelspec": {
   "display_name": "Python 3 (ipykernel)",
   "language": "python",
   "name": "python3"
  },
  "language_info": {
   "codemirror_mode": {
    "name": "ipython",
    "version": 3
   },
   "file_extension": ".py",
   "mimetype": "text/x-python",
   "name": "python",
   "nbconvert_exporter": "python",
   "pygments_lexer": "ipython3",
   "version": "3.12.4"
  }
 },
 "nbformat": 4,
 "nbformat_minor": 5
}
